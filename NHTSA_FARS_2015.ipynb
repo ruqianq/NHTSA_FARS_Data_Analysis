{
 "cells": [
  {
   "cell_type": "markdown",
   "metadata": {},
   "source": [
    "## Casualty Analysis of Speeding Cases resulting in People Killed outside of Vehicle\n",
    "\n",
    "There are 36,560 people died in car accidents in 2018, and 26% of the cases are speeding related."
   ]
  },
  {
   "cell_type": "markdown",
   "metadata": {
    "pycharm": {
     "name": "#%% md\n"
    }
   },
   "source": [
    "### Research Question\n",
    "In this notebook we will be analyzing speeding-related traffic crashes in 2015 that resulting the deaths outside of vehicle and exploring the contribution factors. We will use machine learning algorithms to analyze the data."
   ]
  },
  {
   "cell_type": "markdown",
   "metadata": {},
   "source": [
    "### Data Loading\n",
    "\n",
    "The dataset is from Google BigQuery public data [NHTSA Traffic Fatalities](https://console.cloud.google.com/marketplace/product/nhtsa-data/nhtsa-traffic-fatalities?filter=solution-type:dataset&filter=category:public-safety&id=412c019d-62ba-4ee9-af00-04183e9ddb84) and [How to connect to Google BigQuery](https://cloud.google.com/bigquery/docs/quickstarts?hl=en_US)\n",
    "For more detail about the dataset please visit [NHTSA Fatality Analysis Reporting System](https://www.nhtsa.gov/research-data/fatality-analysis-reporting-system-fars)\n",
    "Here is the sample SQL code I used to query the data from BigQuery:\n",
    "```\n",
    "    SELECT\n",
    "        ap.*, body_type,\n",
    "        vehicle_trailing, gross_vehicle_weight_rating, travel_speed,\n",
    "        previous_recorded_crashes, previous_recorded_suspensions_and_revocations, previous_dwi_convictions,\n",
    "        previous_speeding_convictions, related_factors_driver_level_1, related_factors_driver_level_2,\n",
    "        related_factors_driver_level_3, related_factors_driver_level_4, roadway_alignment, roadway_grade,\n",
    "        roadway_surface_type, roadway_surface_condition, crash_type_name, fatalities_in_vehicle\n",
    "        FROM (\n",
    "        SELECT a.consecutive_number, number_of_forms_submitted_for_persons_not_in_motor_vehicles\n",
    "        number_of_forms_submitted_for_persons_not_in_motor_vehicles, a.day_of_crash, a.month_of_crash,\n",
    "        day_of_week, a.hour_of_crash, national_highway_system, a.land_use_name, a.functional_system_name,\n",
    "        route_signing, a.first_harmful_event_name, relation_to_junction_within_interchange_area,              a.relation_to_junction_specific_location_name, type_of_intersection, relation_to_trafficway_name, light_condition_name,\n",
    "        atmospheric_conditions_name, related_factors_crash_level_1_name, related_factors_crash_level_2_name, related_factors_crash_level_3_name,\n",
    "        number_of_fatalities, p.vehicle_number, p.rollover, p.age, p.sex, p.person_type, p.injury_severity,\n",
    "        p.police_reported_alcohol_involvement, p.police_reported_drug_involvement, race\n",
    "        FROM\n",
    "        `bigquery-public-data.nhtsa_traffic_fatalities.accident_2015` a\n",
    "        LEFT JOIN\n",
    "        `bigquery-public-data.nhtsa_traffic_fatalities.person_2015` p\n",
    "        ON a.consecutive_number = p.consecutive_number\n",
    "        WHERE p.person_type = 1\n",
    "        ) ap\n",
    "        JOIN\n",
    "        `bigquery-public-data.nhtsa_traffic_fatalities.vehicle_2015` v\n",
    "        ON ap.vehicle_number = v.vehicle_number\n",
    "        WHERE speeding_related LIKE '%Yes%' and number_of_forms_submitted_for_persons_not_in_motor_vehicles > 0\n",
    "        LIMIT 200000\n",
    "```\n",
    "I wrote is simple [script](bq.py) to convert the data from Google Big Query to Data Frame.\n",
    "Here you need to save the Google credential file, more details about how to make connection\n",
    "please see [here](https://cloud.google.com/bigquery/docs/reference/libraries?authuser=1#client-libraries-usage-python)."
   ]
  },
  {
   "cell_type": "code",
   "execution_count": null,
   "outputs": [],
   "source": [
    "import bq\n",
    "\n",
    "query = \"\"\"\n",
    "SELECT * FROM `nhtsa-daisy.fars_2015.fars_2015`\n",
    "\"\"\"\n",
    "\n",
    "df = bq.to_df(query, \"../../Downloads/NHTSA-Daisy-5dde7049e0be.json\")"
   ],
   "metadata": {
    "collapsed": false,
    "pycharm": {
     "name": "#%%\n"
    }
   }
  },
  {
   "cell_type": "markdown",
   "metadata": {
    "pycharm": {
     "name": "#%% md\n"
    }
   },
   "source": [
    "### Data Preprocess and Exploration"
   ]
  },
  {
   "cell_type": "markdown",
   "metadata": {},
   "source": [
    "#### Create Target\n",
    "First, we need to create our target.\n",
    "The target is from the number of total fatalities of the crash minus fatalities inside the car.\n",
    "If the number bigger than 0, the speeding crash result in people's death outside of vehicle, vise versa.\n",
    "We create a new column called `death`, which is a binary with value 0 and 1, then we need to plot this column."
   ]
  },
  {
   "cell_type": "code",
   "execution_count": 3,
   "metadata": {
    "pycharm": {
     "name": "#%%\n"
    }
   },
   "outputs": [
    {
     "name": "stdout",
     "output_type": "stream",
     "text": [
      "0    167454\n",
      "1     32546\n",
      "Name: death, dtype: int64\n"
     ]
    },
    {
     "data": {
      "text/plain": "<AxesSubplot:>"
     },
     "execution_count": 3,
     "metadata": {},
     "output_type": "execute_result"
    },
    {
     "data": {
      "text/plain": "<Figure size 432x288 with 1 Axes>",
      "image/png": "[encoded data removed]"
     },
     "metadata": {
      "needs_background": "light"
     },
     "output_type": "display_data"
    }
   ],
   "source": [
    "df['death'] = df.apply(lambda row: 1 if (row.number_of_fatalities - row.fatalities_in_vehicle > 0) else 0, axis=1)\n",
    "print(df['death'].value_counts())\n",
    "df['death'].value_counts().plot(kind='bar')"
   ]
  },
  {
   "cell_type": "markdown",
   "metadata": {},
   "source": [
    "As you can see the target is not very balance, we have more than 5 times of class 0 than class 1.\n",
    "we could up-sample minority class or down-sample majority class.\n",
    "Here we choose to down-sample majority class (death = 0) to 32546."
   ]
  },
  {
   "cell_type": "code",
   "execution_count": 4,
   "metadata": {
    "pycharm": {
     "name": "#%%\n"
    }
   },
   "outputs": [
    {
     "name": "stdout",
     "output_type": "stream",
     "text": [
      "1    32546\n",
      "0    32546\n",
      "Name: death, dtype: int64\n"
     ]
    },
    {
     "data": {
      "text/plain": "<AxesSubplot:>"
     },
     "execution_count": 4,
     "metadata": {},
     "output_type": "execute_result"
    },
    {
     "data": {
      "text/plain": "<Figure size 432x288 with 1 Axes>",
      "image/png": "[encoded data removed]"
     },
     "metadata": {
      "needs_background": "light"
     },
     "output_type": "display_data"
    }
   ],
   "source": [
    "from sklearn.utils import resample\n",
    "import pandas as pd\n",
    "df_majority = df[df.death==0]\n",
    "df_minority = df[df.death==1]\n",
    "\n",
    "# Downsample majority class\n",
    "df_majority_downsampled = resample(df_majority,\n",
    "                                 replace=False,    # sample without replacement\n",
    "                                 n_samples=32546,     # to match minority class\n",
    "                                 random_state=123) # reproducible results\n",
    "\n",
    "# Combine minority class with downsampled majority class\n",
    "df_downsampled = pd.concat([df_majority_downsampled, df_minority])\n",
    "\n",
    "# Display new class counts\n",
    "print(df_downsampled.death.value_counts())\n",
    "df_downsampled['death'].value_counts().plot(kind='bar')"
   ]
  },
  {
   "cell_type": "markdown",
   "metadata": {
    "pycharm": {
     "name": "#%% md\n"
    }
   },
   "source": [
    "Now the number of data point of target is balanced.\n",
    "\n",
    "#### Data Cleansing and Encoding\n",
    "Then we need to drop some unnecessary columns to help reduce the computation."
   ]
  },
  {
   "cell_type": "code",
   "execution_count": 5,
   "metadata": {
    "pycharm": {
     "name": "#%%\n"
    }
   },
   "outputs": [],
   "source": [
    "df_downsampled = df_downsampled.drop(['consecutive_number', 'number_of_fatalities', 'fatalities_in_vehicle',\n",
    "                                      'number_of_forms_submitted_for_persons_not_in_motor_vehicles', 'vehicle_number',\n",
    "                                      'person_type'], axis=1)"
   ]
  },
  {
   "cell_type": "markdown",
   "metadata": {
    "pycharm": {
     "name": "#%% md\n"
    }
   },
   "source": [
    "Next we need to encode our categorical data to allow computation.\n",
    "\n",
    "Based on preliminary research, columns `relation_to_junction_within_interchange_area`, `vehicle_trailing`, `rollover`,\n",
    "`police_reported_alcohol_involvement`, `police_reported_drug_involvement` and `sex` are primary binary columns, so we\n",
    "could encode them 0 and 1 according to their value. Because some columns are long string, so we need to strip the text."
   ]
  },
  {
   "cell_type": "code",
   "execution_count": 6,
   "metadata": {},
   "outputs": [],
   "source": [
    "df_downsampled[\"relation_to_junction_within_interchange_area\"] = df_downsampled.apply(\n",
    "    lambda row: 1 if (row.relation_to_junction_within_interchange_area == 'Yes') else 0, axis=1)\n",
    "\n",
    "df_downsampled['vehicle_trailing'] = df_downsampled['vehicle_trailing'].str[0:3]\n",
    "df_downsampled['vehicle_trailing'] = df_downsampled.apply(\n",
    "    lambda row: 0 if (row.vehicle_trailing == 'No ') else 1, axis=1)\n",
    "\n",
    "df_downsampled['rollover'] = df_downsampled['rollover'].str[0:2]\n",
    "df_downsampled['rollover'] = df_downsampled.apply(\n",
    "    lambda row: 0 if (row.rollover == 'No') else 1, axis=1)\n",
    "\n",
    "df_downsampled['police_reported_alcohol_involvement'] = df_downsampled['police_reported_alcohol_involvement'].str[0:3]\n",
    "df_downsampled['police_reported_alcohol_involvement'] = df_downsampled.apply(\n",
    "    lambda row: 1 if (row.police_reported_alcohol_involvement == 'Yes') else 0, axis=1)\n",
    "\n",
    "df_downsampled['police_reported_drug_involvement'] = df_downsampled['police_reported_drug_involvement'].str[0:3]\n",
    "df_downsampled['police_reported_drug_involvement'] = df_downsampled.apply(\n",
    "    lambda row: 1 if (row.police_reported_drug_involvement == 'Yes') else 0, axis=1)\n",
    "\n",
    "df_downsampled['sex'] = df_downsampled.apply(\n",
    "    lambda row: 0 if (row.sex == 'Female') else 1, axis=1)"
   ]
  },
  {
   "cell_type": "markdown",
   "metadata": {
    "pycharm": {
     "name": "#%% md\n"
    }
   },
   "source": [
    "Now we could create predictors (X) and target (y)"
   ]
  },
  {
   "cell_type": "code",
   "execution_count": 7,
   "metadata": {},
   "outputs": [],
   "source": [
    "X = df_downsampled.drop(['death'], axis=1)\n",
    "y = df_downsampled['death']"
   ]
  },
  {
   "cell_type": "markdown",
   "metadata": {
    "pycharm": {
     "name": "#%% md\n"
    }
   },
   "source": [
    "In X there are still some categorical columns, but they are not binary or numeric order, so we need to create dummie\n",
    "variables."
   ]
  },
  {
   "cell_type": "code",
   "execution_count": 8,
   "metadata": {
    "pycharm": {
     "name": "#%%\n"
    }
   },
   "outputs": [],
   "source": [
    "X = pd.get_dummies(X, prefix_sep='_', drop_first=True)"
   ]
  },
  {
   "cell_type": "markdown",
   "metadata": {
    "pycharm": {
     "name": "#%% md\n"
    }
   },
   "source": [
    "### Feature Selection\n",
    "\n",
    "In real case, we don't want to feed too many data which would require higher computation power,\n",
    "and unnecessary columns also could affect your model performance.\n",
    "Here we use filter features by its importance."
   ]
  },
  {
   "cell_type": "code",
   "execution_count": 9,
   "metadata": {},
   "outputs": [],
   "source": [
    "from sklearn.ensemble import ExtraTreesClassifier\n",
    "import matplotlib.pyplot as plt\n",
    "import numpy as np\n",
    "\n",
    "extra_tree_forest = ExtraTreesClassifier(n_estimators=10, criterion ='entropy')\n",
    "\n",
    "extra_tree_forest.fit(X, y)\n",
    "# Computing the importance of each feature \n",
    "feature_importance = extra_tree_forest.feature_importances_ \n",
    "\n",
    "feature_importance_df = pd.DataFrame({'feature_names':np.array(X.columns),\n",
    "                                      'feature_importance':np.array(feature_importance)})"
   ]
  },
  {
   "cell_type": "markdown",
   "source": [
    "Top 10 important features are\n",
    "- `body_type`: This data element identifies a classification of this vehicle based on its general body configuration,\n",
    "size, shape, doors, etc.\n",
    "- `crash_type_name_SINGLE DRIVER, CONFIGURATION C: FORWARD IMPACT, Pedestrian/Animal`: This data element identifies the\n",
    "attribute that best describes the type of crash this vehicle was involved in based on the “First Harmful Event” and the\n",
    "precrash circumstances.\n",
    "- `related_factors_driver_level_1`: This data element records factors related to this driver expressed by the\n",
    "investigating officer.\n",
    "- `travel_speed`,\n",
    "- `crash_type_name_SINGLE DRIVER, CONFIGURATION A: RIGHT ROADSIDE DEPARTURE, Drive Off Road`,\n",
    "- `crash_type_name_SINGLE DRIVER, CONFIGURATION B: LEFT ROADSIDE DEPARTURE, Drive Off Road`,\n",
    "- `crash_type_name_SINGLE DRIVER, CONFIGURATION B: LEFT ROADSIDE DEPARTURE, Control/Traction Loss`,\n",
    "- `crash_type_name_SINGLE DRIVER, CONFIGURATION A: RIGHT ROADSIDE DEPARTURE, Control/Traction Loss`,\n",
    "- `roadway_alignment_Straight`,\n",
    "- `previous_speeding_convictions`"
   ],
   "metadata": {
    "collapsed": false
   }
  },
  {
   "cell_type": "code",
   "execution_count": 10,
   "metadata": {
    "pycharm": {
     "name": "#%%\n"
    }
   },
   "outputs": [
    {
     "name": "stdout",
     "output_type": "stream",
     "text": [
      "['body_type', 'crash_type_name_SINGLE DRIVER, CONFIGURATION C: FORWARD IMPACT, Pedestrian/Animal', 'related_factors_driver_level_1', 'travel_speed', 'crash_type_name_SINGLE DRIVER, CONFIGURATION A: RIGHT ROADSIDE DEPARTURE, Drive Off Road', 'crash_type_name_SINGLE DRIVER, CONFIGURATION B: LEFT ROADSIDE DEPARTURE, Drive Off Road', 'crash_type_name_SINGLE DRIVER, CONFIGURATION B: LEFT ROADSIDE DEPARTURE, Control/Traction Loss', 'crash_type_name_SINGLE DRIVER, CONFIGURATION A: RIGHT ROADSIDE DEPARTURE, Control/Traction Loss', 'roadway_alignment_Straight', 'previous_speeding_convictions']\n"
     ]
    }
   ],
   "source": [
    "print(list(feature_importance_df.sort_values(by=['feature_importance'], ascending=False)[:10]['feature_names']))"
   ]
  },
  {
   "cell_type": "code",
   "execution_count": 11,
   "metadata": {},
   "outputs": [],
   "source": [
    "from sklearn.model_selection import train_test_split\n",
    "\n",
    "X = X[['body_type', 'crash_type_name_SINGLE DRIVER, CONFIGURATION C: FORWARD IMPACT, Pedestrian/Animal', 'related_factors_driver_level_1', 'travel_speed', 'crash_type_name_SINGLE DRIVER, CONFIGURATION A: RIGHT ROADSIDE DEPARTURE, Drive Off Road', 'crash_type_name_SINGLE DRIVER, CONFIGURATION B: LEFT ROADSIDE DEPARTURE, Drive Off Road', 'crash_type_name_SINGLE DRIVER, CONFIGURATION A: RIGHT ROADSIDE DEPARTURE, Control/Traction Loss', 'roadway_alignment_Straight', 'crash_type_name_SINGLE DRIVER, CONFIGURATION B: LEFT ROADSIDE DEPARTURE, Control/Traction Loss', 'previous_recorded_suspensions_and_revocations']]\n",
    "X_train, X_test, y_train, y_test = train_test_split(X, y, test_size=0.25, random_state=0)"
   ]
  },
  {
   "cell_type": "code",
   "execution_count": 12,
   "metadata": {
    "pycharm": {
     "name": "#%%\n"
    }
   },
   "outputs": [
    {
     "name": "stdout",
     "output_type": "stream",
     "text": [
      "                                                                      fpr  \\\n",
      "classifiers                                                                 \n",
      "LogisticRegression      [0.0, 0.0, 0.0, 0.0, 0.0, 0.0, 0.0, 0.0, 0.0, ...   \n",
      "GaussianNB              [0.0, 0.002251688766574931, 0.0022516887665749...   \n",
      "KNeighborsClassifier    [0.0, 0.028646484863647736, 0.0585439079309482...   \n",
      "DecisionTreeClassifier  [0.0, 0.0012509382036527395, 0.001250938203652...   \n",
      "RandomForestClassifier  [0.0, 0.0, 0.00012509382036527395, 0.000125093...   \n",
      "\n",
      "                                                                      tpr  \\\n",
      "classifiers                                                                 \n",
      "LogisticRegression      [0.0, 0.0008455127430849137, 0.001570237951443...   \n",
      "GaussianNB              [0.0, 0.2493054716753231, 0.2500301968836816, ...   \n",
      "KNeighborsClassifier    [0.0, 0.8241333494383379, 0.9202802270805653, ...   \n",
      "DecisionTreeClassifier  [0.0, 0.7004469138784878, 0.7020171518299312, ...   \n",
      "RandomForestClassifier  [0.0, 0.7004469138784878, 0.7004469138784878, ...   \n",
      "\n",
      "                             auc  \n",
      "classifiers                       \n",
      "LogisticRegression      0.870072  \n",
      "GaussianNB              0.865612  \n",
      "KNeighborsClassifier    0.974435  \n",
      "DecisionTreeClassifier  0.989799  \n",
      "RandomForestClassifier  0.990402  \n"
     ]
    }
   ],
   "source": [
    "from sklearn.ensemble import RandomForestClassifier\n",
    "from sklearn.linear_model import LogisticRegression\n",
    "from sklearn.naive_bayes import GaussianNB\n",
    "from sklearn.neighbors import KNeighborsClassifier\n",
    "from sklearn.tree import DecisionTreeClassifier\n",
    "from sklearn.metrics import roc_curve, roc_auc_score\n",
    "import pandas as pd\n",
    "\n",
    "classifiers = [LogisticRegression(random_state=1234),\n",
    "               GaussianNB(),\n",
    "               KNeighborsClassifier(),\n",
    "               DecisionTreeClassifier(random_state=1234),\n",
    "               RandomForestClassifier(random_state=1234)]\n",
    "\n",
    "result_table = pd.DataFrame(columns=['classifiers', 'fpr', 'tpr', 'auc'])\n",
    "\n",
    "for cls in classifiers:\n",
    "    model = cls.fit(X_train, y_train)\n",
    "    yproba = model.predict_proba(X_test)[::, 1]\n",
    "\n",
    "    fpr, tpr, _ = roc_curve(y_test, yproba)\n",
    "    auc = roc_auc_score(y_test, yproba)\n",
    "\n",
    "    result_table = result_table.append({'classifiers': cls.__class__.__name__,\n",
    "                                        'fpr': fpr,\n",
    "                                        'tpr': tpr,\n",
    "                                        'auc': auc}, ignore_index=True)\n",
    "\n",
    "result_table.set_index('classifiers', inplace=True)\n",
    "print(result_table)"
   ]
  },
  {
   "cell_type": "code",
   "execution_count": 13,
   "metadata": {},
   "outputs": [
    {
     "data": {
      "text/plain": "<Figure size 576x432 with 1 Axes>",
      "image/png": "[encoded data removed]"
     },
     "metadata": {
      "needs_background": "light"
     },
     "output_type": "display_data"
    }
   ],
   "source": [
    "fig = plt.figure(figsize=(8,6))\n",
    "\n",
    "for i in result_table.index:\n",
    "    plt.plot(result_table.loc[i]['fpr'], \n",
    "             result_table.loc[i]['tpr'], \n",
    "             label=\"{}, AUC={:.3f}\".format(i, result_table.loc[i]['auc']))\n",
    "    \n",
    "plt.plot([0,1], [0,1], color='orange', linestyle='--')\n",
    "\n",
    "plt.xticks(np.arange(0.0, 1.1, step=0.1))\n",
    "plt.xlabel(\"Flase Positive Rate\", fontsize=15)\n",
    "\n",
    "plt.yticks(np.arange(0.0, 1.1, step=0.1))\n",
    "plt.ylabel(\"True Positive Rate\", fontsize=15)\n",
    "\n",
    "plt.title('ROC Curve Analysis', fontweight='bold', fontsize=15)\n",
    "plt.legend(prop={'size':13}, loc='lower right')\n",
    "\n",
    "plt.show()"
   ]
  },
  {
   "cell_type": "code",
   "execution_count": 13,
   "metadata": {},
   "outputs": [],
   "source": []
  }
 ],
 "metadata": {
  "kernelspec": {
   "display_name": "NHTSA_FARS_Data_Analysis",
   "language": "python",
   "name": "nhtsa_fars_data_analysis"
  },
  "language_info": {
   "codemirror_mode": {
    "name": "ipython",
    "version": 3
   },
   "file_extension": ".py",
   "mimetype": "text/x-python",
   "name": "python",
   "nbconvert_exporter": "python",
   "pygments_lexer": "ipython3",
   "version": "3.6.12"
  }
 },
 "nbformat": 4,
 "nbformat_minor": 4
}