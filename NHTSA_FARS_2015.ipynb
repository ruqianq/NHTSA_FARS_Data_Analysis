{
 "cells": [
  {
   "cell_type": "markdown",
   "metadata": {},
   "source": [
    "## Casualty Analysis of Speeding Cases resulting in People Killed outside of Vehicle\n",
    "\n",
    "There are 36,560 people died in car accidents in 2018, and 26% of the cases are speeding related."
   ]
  },
  {
   "cell_type": "markdown",
   "metadata": {
    "pycharm": {
     "name": "#%% md\n"
    }
   },
   "source": [
    "### Research Question\n",
    "In this notebook we will be analyzing speeding-related traffic crashes in 2015 that resulting the deaths outside of vehicle and exploring the contribution factors. We will use machine learning algorithms to analyze the data."
   ]
  },
  {
   "cell_type": "markdown",
   "metadata": {},
   "source": [
    "### Data Loading\n",
    "\n",
    "The dataset is from Google BigQuery public data [NHTSA Traffic Fatalities](https://console.cloud.google.com/marketplace/product/nhtsa-data/nhtsa-traffic-fatalities?filter=solution-type:dataset&filter=category:public-safety&id=412c019d-62ba-4ee9-af00-04183e9ddb84) and [How to connect to Google BigQuery](https://cloud.google.com/bigquery/docs/quickstarts?hl=en_US)\n",
    "For more detail about the dataset please visit [NHTSA Fatality Analysis Reporting System](https://www.nhtsa.gov/research-data/fatality-analysis-reporting-system-fars)\n",
    "Here is the sample SQL code I used to query the data from BigQuery:\n",
    "```\n",
    "    SELECT\n",
    "        ap.*, body_type,\n",
    "        vehicle_trailing, gross_vehicle_weight_rating, travel_speed,\n",
    "        previous_recorded_crashes, previous_recorded_suspensions_and_revocations, previous_dwi_convictions,\n",
    "        previous_speeding_convictions, related_factors_driver_level_1, related_factors_driver_level_2,\n",
    "        related_factors_driver_level_3, related_factors_driver_level_4, roadway_alignment, roadway_grade,\n",
    "        roadway_surface_type, roadway_surface_condition, crash_type, fatalities_in_vehicle\n",
    "        FROM (\n",
    "        SELECT a.state_number, a.consecutive_number, number_of_forms_submitted_for_persons_not_in_motor_vehicles\n",
    "        number_of_forms_submitted_for_persons_not_in_motor_vehicles, a.county, city, a.day_of_crash, a.month_of_crash,\n",
    "        day_of_week, a.hour_of_crash, national_highway_system, a.land_use, a.functional_system,\n",
    "        route_signing, a.first_harmful_event, a.manner_of_collision, relation_to_junction_within_interchange_area,\n",
    "        relation_to_junction_specific_location, type_of_intersection, relation_to_trafficway, light_condition,\n",
    "        atmospheric_conditions, related_factors_crash_level_1, related_factors_crash_level_2, related_factors_crash_level_3,\n",
    "        number_of_fatalities, p.vehicle_number, p.person_number, p.rollover, p.age, p.sex, p.person_type, p.injury_severity,\n",
    "        p.police_reported_alcohol_involvement, p.police_reported_drug_involvement, related_factors_person_level1,\n",
    "        related_factors_person_level2, related_factors_person_level3, race\n",
    "        FROM\n",
    "        `bigquery-public-data.nhtsa_traffic_fatalities.accident_2015` a\n",
    "        LEFT JOIN\n",
    "        `bigquery-public-data.nhtsa_traffic_fatalities.person_2015` p\n",
    "        ON a.consecutive_number = p.consecutive_number\n",
    "        WHERE p.person_type = 1\n",
    "        ) ap\n",
    "        JOIN\n",
    "        `bigquery-public-data.nhtsa_traffic_fatalities.vehicle_2015` v\n",
    "        ON ap.vehicle_number = v.vehicle_number\n",
    "        WHERE speeding_related LIKE '%Yes%' and number_of_forms_submitted_for_persons_not_in_motor_vehicles > 0\n",
    "        LIMIT 100000\n",
    "```\n",
    "I wrote is simple [script](bq.py) to convert the data from Google Big Query to Data Frame."
   ]
  },
  {
   "cell_type": "code",
   "execution_count": 2,
   "metadata": {
    "pycharm": {
     "name": "#%%\n"
    }
   },
   "outputs": [],
   "source": [
    "import os\n",
    "os.environ[\"GOOGLE_APPLICATION_CREDENTIALS\"] = \"../../Downloads/NHTSA-Daisy-5dde7049e0be.json\""
   ]
  },
  {
   "cell_type": "markdown",
   "metadata": {
    "pycharm": {
     "name": "#%% md\n"
    }
   },
   "source": [
    "### Data Preprocess and Exploration"
   ]
  },
  {
   "cell_type": "code",
   "execution_count": 3,
   "metadata": {
    "pycharm": {
     "name": "#%%\n"
    }
   },
   "outputs": [
    {
     "data": {
      "text/plain": [
       "<bound method DataFrame.info of        state_number  consecutive_number  \\\n",
       "0                53              530365   \n",
       "1                53              530365   \n",
       "2                53              530365   \n",
       "3                53              530365   \n",
       "4                53              530365   \n",
       "...             ...                 ...   \n",
       "99995            26              260166   \n",
       "99996            26              260166   \n",
       "99997            26              260166   \n",
       "99998            26              260166   \n",
       "99999            26              260166   \n",
       "\n",
       "       number_of_forms_submitted_for_persons_not_in_motor_vehicles  county  \\\n",
       "0                                                      1                33   \n",
       "1                                                      1                33   \n",
       "2                                                      1                33   \n",
       "3                                                      1                33   \n",
       "4                                                      1                33   \n",
       "...                                                  ...               ...   \n",
       "99995                                                  1                49   \n",
       "99996                                                  1                49   \n",
       "99997                                                  1                49   \n",
       "99998                                                  1                49   \n",
       "99999                                                  1                49   \n",
       "\n",
       "       city  day_of_crash  month_of_crash  day_of_week  hour_of_crash  \\\n",
       "0      1960            16               9            4             21   \n",
       "1      1960            16               9            4             21   \n",
       "2      1960            16               9            4             21   \n",
       "3      1960            16               9            4             21   \n",
       "4      1960            16               9            4             21   \n",
       "...     ...           ...             ...          ...            ...   \n",
       "99995  1931            20               4            2              1   \n",
       "99996  1931            20               4            2              1   \n",
       "99997  1931            20               4            2              1   \n",
       "99998  1931            20               4            2              1   \n",
       "99999  1931            20               4            2              1   \n",
       "\n",
       "       national_highway_system  ...  related_factors_driver_level_1  \\\n",
       "0                            0  ...                               0   \n",
       "1                            0  ...                               0   \n",
       "2                            0  ...                               0   \n",
       "3                            0  ...                              58   \n",
       "4                            0  ...                               0   \n",
       "...                        ...  ...                             ...   \n",
       "99995                        0  ...                               0   \n",
       "99996                        0  ...                               0   \n",
       "99997                        0  ...                              58   \n",
       "99998                        0  ...                              36   \n",
       "99999                        0  ...                              99   \n",
       "\n",
       "       related_factors_driver_level_2  related_factors_driver_level_3  \\\n",
       "0                                   0                               0   \n",
       "1                                   0                               0   \n",
       "2                                   0                               0   \n",
       "3                                  87                               0   \n",
       "4                                   0                               0   \n",
       "...                               ...                             ...   \n",
       "99995                               0                               0   \n",
       "99996                               0                               0   \n",
       "99997                               0                               0   \n",
       "99998                               0                               0   \n",
       "99999                              99                              99   \n",
       "\n",
       "       related_factors_driver_level_4  roadway_alignment  \\\n",
       "0                                   0        Curve Right   \n",
       "1                                   0           Straight   \n",
       "2                                   0         Curve Left   \n",
       "3                                   0           Straight   \n",
       "4                                   0         Curve Left   \n",
       "...                               ...                ...   \n",
       "99995                               0           Straight   \n",
       "99996                               0         Curve Left   \n",
       "99997                               0         Curve Left   \n",
       "99998                               0        Curve Right   \n",
       "99999                              99           Straight   \n",
       "\n",
       "              roadway_grade              roadway_surface_type  \\\n",
       "0                  Downhill  Blacktop, Bituminous, or Asphalt   \n",
       "1                     Level  Blacktop, Bituminous, or Asphalt   \n",
       "2                     Level                              Dirt   \n",
       "3                     Level  Blacktop, Bituminous, or Asphalt   \n",
       "4      Grade, Unknown Slope  Blacktop, Bituminous, or Asphalt   \n",
       "...                     ...                               ...   \n",
       "99995                 Level  Blacktop, Bituminous, or Asphalt   \n",
       "99996  Grade, Unknown Slope  Blacktop, Bituminous, or Asphalt   \n",
       "99997              Downhill  Blacktop, Bituminous, or Asphalt   \n",
       "99998                 Level  Blacktop, Bituminous, or Asphalt   \n",
       "99999                 Level                              Dirt   \n",
       "\n",
       "      roadway_surface_condition  crash_type  fatalities_in_vehicle  \n",
       "0                             1           0                      1  \n",
       "1                             1           0                      1  \n",
       "2                             1           0                      1  \n",
       "3                             2           6                      1  \n",
       "4                             2           2                      1  \n",
       "...                         ...         ...                    ...  \n",
       "99995                         1          98                      1  \n",
       "99996                         1          98                      1  \n",
       "99997                         1           1                      1  \n",
       "99998                         1           1                      3  \n",
       "99999                         1          98                      1  \n",
       "\n",
       "[100000 rows x 56 columns]>"
      ]
     },
     "execution_count": 3,
     "metadata": {},
     "output_type": "execute_result"
    }
   ],
   "source": [
    "import bq\n",
    "\n",
    "query = \"\"\"\n",
    "SELECT * FROM `nhtsa-daisy.fars_2015.fars_apv_2015_ped`\n",
    "\"\"\"\n",
    "df = bq.to_df(query)\n",
    "df.info"
   ]
  },
  {
   "cell_type": "markdown",
   "metadata": {},
   "source": [
    "We will only keep column has less than 50% of missing data points"
   ]
  },
  {
   "cell_type": "code",
   "execution_count": 4,
   "metadata": {
    "pycharm": {
     "name": "#%%\n"
    }
   },
   "outputs": [],
   "source": [
    "df_cln = df[df.columns[df.isnull().mean() < 0.5]]"
   ]
  },
  {
   "cell_type": "markdown",
   "metadata": {},
   "source": [
    "Now we need to create our target. The target is calculated from the number of total fatalities of the crash minus fatalities in the car. If the number bigger than 0, the speeding crash result in people death outside of vehicle, vise versa."
   ]
  },
  {
   "cell_type": "code",
   "execution_count": 5,
   "metadata": {
    "pycharm": {
     "name": "#%%\n"
    }
   },
   "outputs": [
    {
     "name": "stdout",
     "output_type": "stream",
     "text": [
      "0    84318\n",
      "1    15682\n",
      "Name: death, dtype: int64\n"
     ]
    },
    {
     "data": {
      "text/plain": [
       "<AxesSubplot:>"
      ]
     },
     "execution_count": 5,
     "metadata": {},
     "output_type": "execute_result"
    },
    {
     "data": {
      "image/png": "[encoded data removed]",
      "text/plain": [
       "<Figure size 432x288 with 1 Axes>"
      ]
     },
     "metadata": {
      "needs_background": "light"
     },
     "output_type": "display_data"
    }
   ],
   "source": [
    "df_cln['death'] = df_cln.apply(lambda row: 1 if (row.number_of_fatalities - row.fatalities_in_vehicle > 0) else 0, axis=1)\n",
    "print(df_cln['death'].value_counts())\n",
    "df_cln['death'].value_counts().plot(kind='bar')"
   ]
  },
  {
   "cell_type": "markdown",
   "metadata": {},
   "source": [
    "As you can see the target is not very balance, we could up-sample minority class or down-sample marjority class.\n",
    "Then we need to drop some columns."
   ]
  },
  {
   "cell_type": "code",
   "execution_count": 6,
   "metadata": {
    "pycharm": {
     "name": "#%%\n"
    }
   },
   "outputs": [],
   "source": [
    "df_cln = df_cln.drop(['consecutive_number', 'number_of_fatalities', 'fatalities_in_vehicle', 'number_of_forms_submitted_for_persons_not_in_motor_vehicles'], axis=1)"
   ]
  },
  {
   "cell_type": "markdown",
   "metadata": {
    "pycharm": {
     "name": "#%% md\n"
    }
   },
   "source": [
    "We have some categorical columns, so we need to encode them into numeric."
   ]
  },
  {
   "cell_type": "code",
   "execution_count": 7,
   "metadata": {
    "pycharm": {
     "name": "#%%\n"
    }
   },
   "outputs": [],
   "source": [
    "df_cln[\"relation_to_junction_within_interchange_area\"] = df_cln.apply(\n",
    "    lambda row: 1 if (row.relation_to_junction_within_interchange_area == 'Yes') else 0, axis=1)\n",
    "\n",
    "df_cln['vehicle_trailing'] = df_cln['vehicle_trailing'].str[0:3]\n",
    "df_cln['vehicle_trailing'] = df_cln.apply(\n",
    "    lambda row: 0 if (row.vehicle_trailing == 'No ') else 1, axis=1)\n",
    "\n",
    "labels = df_cln['gross_vehicle_weight_rating'].astype('category').cat.categories.tolist()\n",
    "replace_map_comp = {'gross_vehicle_weight_rating': {k: v for k, v in zip(labels, list(range(0, len(labels) + 1)))}}\n",
    "df_cln.replace(replace_map_comp, inplace=True)\n",
    "\n",
    "labels2 = df_cln['roadway_alignment'].astype('category').cat.categories.tolist()\n",
    "replace_map_comp2 = {'roadway_alignment': {k: v for k, v in zip(labels2, list(range(1, len(labels2) + 1)))}}\n",
    "df_cln.replace(replace_map_comp2, inplace=True)\n",
    "\n",
    "labels3 = df_cln['roadway_grade'].astype('category').cat.categories.tolist()\n",
    "replace_map_comp3 = {'roadway_grade': {k: v for k, v in zip(labels3, list(range(1, len(labels3) + 1)))}}\n",
    "df_cln.replace(replace_map_comp3, inplace=True)\n",
    "\n",
    "labels4 = df_cln['roadway_surface_type'].astype('category').cat.categories.tolist()\n",
    "replace_map_comp4 = {'roadway_surface_type': {k: v for k, v in zip(labels4, list(range(1, len(labels4) + 1)))}}\n",
    "df_cln.replace(replace_map_comp4, inplace=True)\n",
    "\n",
    "labels5 = df_cln['type_of_intersection'].astype('category').cat.categories.tolist()\n",
    "replace_map_comp5 = {'type_of_intersection': {k: v for k, v in zip(labels5, list(range(1, len(labels5) + 1)))}}\n",
    "df_cln.replace(replace_map_comp5, inplace=True)\n",
    "\n",
    "df_cln['rollover'] = df_cln['rollover'].str[0:2]\n",
    "df_cln['rollover'] = df_cln.apply(\n",
    "    lambda row: 0 if (row.rollover == 'No') else 1, axis=1)\n",
    "\n",
    "df_cln['police_reported_alcohol_involvement'] = df_cln['police_reported_alcohol_involvement'].str[0:3]\n",
    "df_cln['police_reported_alcohol_involvement'] = df_cln.apply(\n",
    "    lambda row: 1 if (row.police_reported_alcohol_involvement == 'Yes') else 0, axis=1)\n",
    "\n",
    "df_cln['police_reported_drug_involvement'] = df_cln['police_reported_drug_involvement'].str[0:3]\n",
    "df_cln['police_reported_drug_involvement'] = df_cln.apply(\n",
    "    lambda row: 1 if (row.police_reported_drug_involvement == 'Yes') else 0, axis=1)\n",
    "\n",
    "df_cln['sex'] = df_cln.apply(\n",
    "    lambda row: 0 if (row.sex == 'Female') else 1, axis=1)"
   ]
  },
  {
   "cell_type": "markdown",
   "metadata": {},
   "source": [
    "Split training set and testing set"
   ]
  },
  {
   "cell_type": "code",
   "execution_count": 8,
   "metadata": {
    "pycharm": {
     "name": "#%%\n"
    }
   },
   "outputs": [],
   "source": [
    "from sklearn.model_selection import train_test_split\n",
    "\n",
    "X = df_cln.drop(['death'], axis=1)\n",
    "y = df_cln['death']"
   ]
  },
  {
   "cell_type": "markdown",
   "metadata": {
    "pycharm": {
     "name": "#%% md\n"
    }
   },
   "source": [
    "### Feature Selection"
   ]
  },
  {
   "cell_type": "code",
   "execution_count": 34,
   "metadata": {
    "pycharm": {
     "name": "#%%\n"
    }
   },
   "outputs": [
    {
     "name": "stdout",
     "output_type": "stream",
     "text": [
      "                                    feature_names  feature_importance\n",
      "51                                     crash_type            0.273689\n",
      "35                                      body_type            0.128553\n",
      "43                 related_factors_driver_level_1            0.084553\n",
      "38                                   travel_speed            0.073528\n",
      "47                              roadway_alignment            0.068352\n",
      "48                                  roadway_grade            0.050509\n",
      "42                  previous_speeding_convictions            0.045006\n",
      "40  previous_recorded_suspensions_and_revocations            0.043841\n",
      "39                      previous_recorded_crashes            0.040076\n",
      "50                      roadway_surface_condition            0.039217\n",
      "49                           roadway_surface_type            0.038860\n",
      "44                 related_factors_driver_level_2            0.037293\n",
      "45                 related_factors_driver_level_3            0.017315\n",
      "36                               vehicle_trailing            0.015751\n",
      "41                       previous_dwi_convictions            0.015065\n",
      "37                    gross_vehicle_weight_rating            0.014264\n",
      "46                 related_factors_driver_level_4            0.008764\n",
      "17                                light_condition            0.001407\n",
      "2                                            city            0.000733\n",
      "18                         atmospheric_conditions            0.000491\n",
      "5                                     day_of_week            0.000416\n",
      "0                                    state_number            0.000411\n",
      "25                                            age            0.000303\n",
      "6                                   hour_of_crash            0.000294\n",
      "10                                  route_signing            0.000247\n",
      "4                                  month_of_crash            0.000226\n",
      "9                               functional_system            0.000225\n",
      "1                                          county            0.000202\n",
      "8                                        land_use            0.000199\n",
      "3                                    day_of_crash            0.000108\n",
      "15                           type_of_intersection            0.000052\n",
      "14         relation_to_junction_specific_location            0.000034\n",
      "26                                            sex            0.000008\n",
      "7                         national_highway_system            0.000007\n",
      "11                            first_harmful_event            0.000002\n",
      "16                         relation_to_trafficway            0.000000\n",
      "12                            manner_of_collision            0.000000\n",
      "13   relation_to_junction_within_interchange_area            0.000000\n",
      "22                                 vehicle_number            0.000000\n",
      "23                                  person_number            0.000000\n",
      "20                  related_factors_crash_level_2            0.000000\n",
      "21                  related_factors_crash_level_3            0.000000\n",
      "34                                           race            0.000000\n",
      "33                  related_factors_person_level3            0.000000\n",
      "32                  related_factors_person_level2            0.000000\n",
      "31                  related_factors_person_level1            0.000000\n",
      "30               police_reported_drug_involvement            0.000000\n",
      "29            police_reported_alcohol_involvement            0.000000\n",
      "28                                injury_severity            0.000000\n",
      "27                                    person_type            0.000000\n",
      "24                                       rollover            0.000000\n",
      "19                  related_factors_crash_level_1            0.000000\n",
      "                                    feature_names  feature_importance\n",
      "51                                     crash_type            0.273689\n",
      "35                                      body_type            0.128553\n",
      "43                 related_factors_driver_level_1            0.084553\n",
      "38                                   travel_speed            0.073528\n",
      "47                              roadway_alignment            0.068352\n",
      "48                                  roadway_grade            0.050509\n",
      "42                  previous_speeding_convictions            0.045006\n",
      "40  previous_recorded_suspensions_and_revocations            0.043841\n",
      "39                      previous_recorded_crashes            0.040076\n",
      "50                      roadway_surface_condition            0.039217\n"
     ]
    }
   ],
   "source": [
    "from sklearn.ensemble import ExtraTreesClassifier\n",
    "import matplotlib.pyplot as plt\n",
    "import numpy as np\n",
    "import pandas as pd\n",
    "\n",
    "extra_tree_forest = ExtraTreesClassifier(n_estimators=10, criterion ='entropy')\n",
    "\n",
    "extra_tree_forest.fit(X, y)\n",
    "# Computing the importance of each feature \n",
    "feature_importance = extra_tree_forest.feature_importances_ \n",
    "\n",
    "feature_importance_df = pd.DataFrame({'feature_names':np.array(X.columns),\n",
    "                                      'feature_importance':np.array(feature_importance)})\n",
    "\n",
    "print(feature_importance_df.sort_values(by=['feature_importance'], ascending=False))"
   ]
  },
  {
   "cell_type": "markdown",
   "metadata": {},
   "source": [
    "Here we have the list of features importance."
   ]
  },
  {
   "cell_type": "markdown",
   "metadata": {},
   "source": [
    "The top 15 features are 'crash_type', 'body_type', 'related_factors_driver_level_1', 'travel_speed', 'roadway_alignment', 'roadway_grade', 'previous_speeding_convictions', 'previous_recorded_suspensions_and_revocations', 'previous_recorded_crashes', 'roadway_surface_condition', 'roadway_surface_type', 'related_factors_driver_level_2', 'related_factors_driver_level_3', 'vehicle_trailing', 'previous_dwi_convictions'."
   ]
  },
  {
   "cell_type": "code",
   "execution_count": 40,
   "metadata": {},
   "outputs": [],
   "source": [
    "from sklearn.model_selection import train_test_split\n",
    "\n",
    "X = df_cln[['crash_type', 'body_type', 'related_factors_driver_level_1', 'travel_speed', 'roadway_alignment', 'roadway_grade', 'previous_speeding_convictions', 'previous_recorded_suspensions_and_revocations', 'previous_recorded_crashes', 'roadway_surface_condition', 'roadway_surface_type', 'related_factors_driver_level_2', 'related_factors_driver_level_3', 'vehicle_trailing', 'previous_dwi_convictions']]\n",
    "X_train, X_test, y_train, y_test = train_test_split(X, y, test_size=0.25, random_state=0)"
   ]
  },
  {
   "cell_type": "code",
   "execution_count": 41,
   "metadata": {
    "pycharm": {
     "name": "#%%\n"
    }
   },
   "outputs": [
    {
     "name": "stderr",
     "output_type": "stream",
     "text": [
      "/Users/dqin/.local/share/virtualenvs/NHTSA_FARS_Data_Analysis-qn1lgQ-K/lib/python3.6/site-packages/sklearn/linear_model/_logistic.py:764: ConvergenceWarning: lbfgs failed to converge (status=1):\n",
      "STOP: TOTAL NO. of ITERATIONS REACHED LIMIT.\n",
      "\n",
      "Increase the number of iterations (max_iter) or scale the data as shown in:\n",
      "    https://scikit-learn.org/stable/modules/preprocessing.html\n",
      "Please also refer to the documentation for alternative solver options:\n",
      "    https://scikit-learn.org/stable/modules/linear_model.html#logistic-regression\n",
      "  extra_warning_msg=_LOGISTIC_SOLVER_CONVERGENCE_MSG)\n"
     ]
    },
    {
     "name": "stdout",
     "output_type": "stream",
     "text": [
      "                                                                      fpr  \\\n",
      "classifiers                                                                 \n",
      "LogisticRegression      [0.0, 0.0, 0.0, 0.00014188422247446084, 0.0002...   \n",
      "GaussianNB              [0.0, 0.013715474839197881, 0.0139046538024971...   \n",
      "KNeighborsClassifier    [0.0, 0.0, 0.0005202421490730231, 0.0011823685...   \n",
      "DecisionTreeClassifier  [0.0, 0.0, 9.458948164964057e-05, 0.0003783579...   \n",
      "RandomForestClassifier  [0.0, 0.0, 0.0, 0.0, 9.458948164964057e-05, 0....   \n",
      "\n",
      "                                                                      tpr  \\\n",
      "classifiers                                                                 \n",
      "LogisticRegression      [0.0, 0.001037344398340249, 0.0012966804979253...   \n",
      "GaussianNB              [0.0, 0.06483402489626557, 0.06483402489626557...   \n",
      "KNeighborsClassifier    [0.0, 0.983661825726141, 0.9919605809128631, 0...   \n",
      "DecisionTreeClassifier  [0.0, 0.9898858921161826, 0.991441908713693, 0...   \n",
      "RandomForestClassifier  [0.0, 0.9496887966804979, 0.9854771784232366, ...   \n",
      "\n",
      "                             auc  \n",
      "classifiers                       \n",
      "LogisticRegression      0.684535  \n",
      "GaussianNB              0.772120  \n",
      "KNeighborsClassifier    0.999988  \n",
      "DecisionTreeClassifier  0.999991  \n",
      "RandomForestClassifier  0.999991  \n"
     ]
    }
   ],
   "source": [
    "from sklearn.ensemble import RandomForestClassifier\n",
    "from sklearn.linear_model import LogisticRegression\n",
    "from sklearn.naive_bayes import GaussianNB\n",
    "from sklearn.neighbors import KNeighborsClassifier\n",
    "from sklearn.tree import DecisionTreeClassifier\n",
    "from sklearn.metrics import roc_curve, roc_auc_score\n",
    "import pandas as pd\n",
    "\n",
    "classifiers = [LogisticRegression(random_state=1234),\n",
    "               GaussianNB(),\n",
    "               KNeighborsClassifier(),\n",
    "               DecisionTreeClassifier(random_state=1234),\n",
    "               RandomForestClassifier(random_state=1234)]\n",
    "\n",
    "result_table = pd.DataFrame(columns=['classifiers', 'fpr', 'tpr', 'auc'])\n",
    "\n",
    "for cls in classifiers:\n",
    "    model = cls.fit(X_train, y_train)\n",
    "    yproba = model.predict_proba(X_test)[::, 1]\n",
    "\n",
    "    fpr, tpr, _ = roc_curve(y_test, yproba)\n",
    "    auc = roc_auc_score(y_test, yproba)\n",
    "\n",
    "    result_table = result_table.append({'classifiers': cls.__class__.__name__,\n",
    "                                        'fpr': fpr,\n",
    "                                        'tpr': tpr,\n",
    "                                        'auc': auc}, ignore_index=True)\n",
    "\n",
    "result_table.set_index('classifiers', inplace=True)\n",
    "print(result_table)"
   ]
  },
  {
   "cell_type": "markdown",
   "metadata": {},
   "source": []
  },
  {
   "cell_type": "code",
   "execution_count": 42,
   "metadata": {
    "pycharm": {
     "name": "#%%\n"
    }
   },
   "outputs": [
    {
     "data": {
      "image/png": "[encoded data removed]",
      "text/plain": [
       "<Figure size 576x432 with 1 Axes>"
      ]
     },
     "metadata": {
      "needs_background": "light"
     },
     "output_type": "display_data"
    }
   ],
   "source": [
    "fig = plt.figure(figsize=(8, 6))\n",
    "\n",
    "for i in result_table.index:\n",
    "    plt.plot(result_table.loc[i]['fpr'],\n",
    "             result_table.loc[i]['tpr'],\n",
    "             label=\"{}, AUC={:.3f}\".format(i, result_table.loc[i]['auc']))\n",
    "\n",
    "plt.plot([0, 1], [0, 1], color='orange', linestyle='--')\n",
    "\n",
    "plt.xticks(np.arange(0.0, 1.1, step=0.1))\n",
    "plt.xlabel(\"False Positive Rate\", fontsize=15)\n",
    "\n",
    "plt.yticks(np.arange(0.0, 1.1, step=0.1))\n",
    "plt.ylabel(\"True Positive Rate\", fontsize=15)\n",
    "\n",
    "plt.title('ROC Curve Analysis', fontweight='bold', fontsize=15)\n",
    "plt.legend(prop={'size': 13}, loc='lower right')\n",
    "\n",
    "plt.show()"
   ]
  }
 ],
 "metadata": {
  "kernelspec": {
   "display_name": "NHTSA_FARS_Data_Analysis",
   "language": "python",
   "name": "nhtsa_fars_data_analysis"
  },
  "language_info": {
   "codemirror_mode": {
    "name": "ipython",
    "version": 3
   },
   "file_extension": ".py",
   "mimetype": "text/x-python",
   "name": "python",
   "nbconvert_exporter": "python",
   "pygments_lexer": "ipython3",
   "version": "3.6.12"
  }
 },
 "nbformat": 4,
 "nbformat_minor": 4
}