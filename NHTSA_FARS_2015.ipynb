{
 "cells": [
  {
   "cell_type": "markdown",
   "metadata": {},
   "source": [
    "## Casualty Analysis of Speeding Cases resulting in People Killed outside of Vehicle\n",
    "\n",
    "There are 36,560 people died in car accidents in 2018, and 26% of the cases are speeding related."
   ]
  },
  {
   "cell_type": "markdown",
   "metadata": {
    "pycharm": {
     "name": "#%% md\n"
    }
   },
   "source": [
    "### Research Question\n",
    "In this notebook we will be analyzing speeding-related traffic crashes in 2015 that resulting the deaths outside of vehicle and exploring the contribution factors. We will use machine learning algorithms to analyze the data."
   ]
  },
  {
   "cell_type": "markdown",
   "metadata": {},
   "source": [
    "### Data Loading\n",
    "\n",
    "The dataset is from Google BigQuery public data [NHTSA Traffic Fatalities](https://console.cloud.google.com/marketplace/product/nhtsa-data/nhtsa-traffic-fatalities?filter=solution-type:dataset&filter=category:public-safety&id=412c019d-62ba-4ee9-af00-04183e9ddb84) and [How to connect to Google BigQuery](https://cloud.google.com/bigquery/docs/quickstarts?hl=en_US)\n",
    "For more detail about the dataset please visit [NHTSA Fatality Analysis Reporting System](https://www.nhtsa.gov/research-data/fatality-analysis-reporting-system-fars)\n",
    "Here is the sample SQL code I used to query the data from BigQuery:\n",
    "```\n",
    "    SELECT\n",
    "        ap.*, body_type,\n",
    "        vehicle_trailing, gross_vehicle_weight_rating, travel_speed,\n",
    "        previous_recorded_crashes, previous_recorded_suspensions_and_revocations, previous_dwi_convictions,\n",
    "        previous_speeding_convictions, related_factors_driver_level_1, related_factors_driver_level_2,\n",
    "        related_factors_driver_level_3, related_factors_driver_level_4, roadway_alignment, roadway_grade,\n",
    "        roadway_surface_type, roadway_surface_condition, crash_type, fatalities_in_vehicle\n",
    "        FROM (\n",
    "        SELECT a.state_number, a.consecutive_number, number_of_forms_submitted_for_persons_not_in_motor_vehicles\n",
    "        number_of_forms_submitted_for_persons_not_in_motor_vehicles, a.county, city, a.day_of_crash, a.month_of_crash,\n",
    "        day_of_week, a.hour_of_crash, national_highway_system, a.land_use, a.functional_system,\n",
    "        route_signing, a.first_harmful_event, a.manner_of_collision, relation_to_junction_within_interchange_area,\n",
    "        relation_to_junction_specific_location, type_of_intersection, relation_to_trafficway, light_condition,\n",
    "        atmospheric_conditions, related_factors_crash_level_1, related_factors_crash_level_2, related_factors_crash_level_3,\n",
    "        number_of_fatalities, p.vehicle_number, p.person_number, p.rollover, p.age, p.sex, p.person_type, p.injury_severity,\n",
    "        p.police_reported_alcohol_involvement, p.police_reported_drug_involvement, related_factors_person_level1,\n",
    "        related_factors_person_level2, related_factors_person_level3, race\n",
    "        FROM\n",
    "        `bigquery-public-data.nhtsa_traffic_fatalities.accident_2015` a\n",
    "        LEFT JOIN\n",
    "        `bigquery-public-data.nhtsa_traffic_fatalities.person_2015` p\n",
    "        ON a.consecutive_number = p.consecutive_number\n",
    "        WHERE p.person_type = 1\n",
    "        ) ap\n",
    "        JOIN\n",
    "        `bigquery-public-data.nhtsa_traffic_fatalities.vehicle_2015` v\n",
    "        ON ap.vehicle_number = v.vehicle_number\n",
    "        WHERE speeding_related LIKE '%Yes%' and number_of_forms_submitted_for_persons_not_in_motor_vehicles > 0\n",
    "        LIMIT 100000\n",
    "```\n",
    "I wrote is simple [script](bq.py) to convert the data from Google Big Query to Data Frame."
   ]
  },
  {
   "cell_type": "code",
   "execution_count": 56,
   "metadata": {
    "pycharm": {
     "name": "#%%\n"
    }
   },
   "outputs": [],
   "source": [
    "import os\n",
    "os.environ[\"GOOGLE_APPLICATION_CREDENTIALS\"] = \"../../Downloads/NHTSA-Daisy-5dde7049e0be.json\""
   ]
  },
  {
   "cell_type": "markdown",
   "metadata": {
    "pycharm": {
     "name": "#%% md\n"
    }
   },
   "source": [
    "### Data Preprocess and Exploration"
   ]
  },
  {
   "cell_type": "code",
   "execution_count": 57,
   "metadata": {
    "pycharm": {
     "name": "#%%\n"
    }
   },
   "outputs": [
    {
     "data": {
      "text/plain": [
       "<bound method DataFrame.info of        state_number  consecutive_number  \\\n",
       "0                53              530365   \n",
       "1                53              530365   \n",
       "2                53              530365   \n",
       "3                53              530365   \n",
       "4                53              530365   \n",
       "...             ...                 ...   \n",
       "99995            26              260166   \n",
       "99996            26              260166   \n",
       "99997            26              260166   \n",
       "99998            26              260166   \n",
       "99999            26              260166   \n",
       "\n",
       "       number_of_forms_submitted_for_persons_not_in_motor_vehicles  county  \\\n",
       "0                                                      1                33   \n",
       "1                                                      1                33   \n",
       "2                                                      1                33   \n",
       "3                                                      1                33   \n",
       "4                                                      1                33   \n",
       "...                                                  ...               ...   \n",
       "99995                                                  1                49   \n",
       "99996                                                  1                49   \n",
       "99997                                                  1                49   \n",
       "99998                                                  1                49   \n",
       "99999                                                  1                49   \n",
       "\n",
       "       city  day_of_crash  month_of_crash  day_of_week  hour_of_crash  \\\n",
       "0      1960            16               9            4             21   \n",
       "1      1960            16               9            4             21   \n",
       "2      1960            16               9            4             21   \n",
       "3      1960            16               9            4             21   \n",
       "4      1960            16               9            4             21   \n",
       "...     ...           ...             ...          ...            ...   \n",
       "99995  1931            20               4            2              1   \n",
       "99996  1931            20               4            2              1   \n",
       "99997  1931            20               4            2              1   \n",
       "99998  1931            20               4            2              1   \n",
       "99999  1931            20               4            2              1   \n",
       "\n",
       "       national_highway_system  ...  related_factors_driver_level_1  \\\n",
       "0                            0  ...                               0   \n",
       "1                            0  ...                               0   \n",
       "2                            0  ...                               0   \n",
       "3                            0  ...                              58   \n",
       "4                            0  ...                               0   \n",
       "...                        ...  ...                             ...   \n",
       "99995                        0  ...                               0   \n",
       "99996                        0  ...                               0   \n",
       "99997                        0  ...                              58   \n",
       "99998                        0  ...                              36   \n",
       "99999                        0  ...                              99   \n",
       "\n",
       "       related_factors_driver_level_2  related_factors_driver_level_3  \\\n",
       "0                                   0                               0   \n",
       "1                                   0                               0   \n",
       "2                                   0                               0   \n",
       "3                                  87                               0   \n",
       "4                                   0                               0   \n",
       "...                               ...                             ...   \n",
       "99995                               0                               0   \n",
       "99996                               0                               0   \n",
       "99997                               0                               0   \n",
       "99998                               0                               0   \n",
       "99999                              99                              99   \n",
       "\n",
       "       related_factors_driver_level_4  roadway_alignment  \\\n",
       "0                                   0        Curve Right   \n",
       "1                                   0           Straight   \n",
       "2                                   0         Curve Left   \n",
       "3                                   0           Straight   \n",
       "4                                   0         Curve Left   \n",
       "...                               ...                ...   \n",
       "99995                               0           Straight   \n",
       "99996                               0         Curve Left   \n",
       "99997                               0         Curve Left   \n",
       "99998                               0        Curve Right   \n",
       "99999                              99           Straight   \n",
       "\n",
       "              roadway_grade              roadway_surface_type  \\\n",
       "0                  Downhill  Blacktop, Bituminous, or Asphalt   \n",
       "1                     Level  Blacktop, Bituminous, or Asphalt   \n",
       "2                     Level                              Dirt   \n",
       "3                     Level  Blacktop, Bituminous, or Asphalt   \n",
       "4      Grade, Unknown Slope  Blacktop, Bituminous, or Asphalt   \n",
       "...                     ...                               ...   \n",
       "99995                 Level  Blacktop, Bituminous, or Asphalt   \n",
       "99996  Grade, Unknown Slope  Blacktop, Bituminous, or Asphalt   \n",
       "99997              Downhill  Blacktop, Bituminous, or Asphalt   \n",
       "99998                 Level  Blacktop, Bituminous, or Asphalt   \n",
       "99999                 Level                              Dirt   \n",
       "\n",
       "      roadway_surface_condition  crash_type  fatalities_in_vehicle  \n",
       "0                             1           0                      1  \n",
       "1                             1           0                      1  \n",
       "2                             1           0                      1  \n",
       "3                             2           6                      1  \n",
       "4                             2           2                      1  \n",
       "...                         ...         ...                    ...  \n",
       "99995                         1          98                      1  \n",
       "99996                         1          98                      1  \n",
       "99997                         1           1                      1  \n",
       "99998                         1           1                      3  \n",
       "99999                         1          98                      1  \n",
       "\n",
       "[100000 rows x 56 columns]>"
      ]
     },
     "execution_count": 57,
     "metadata": {},
     "output_type": "execute_result"
    }
   ],
   "source": [
    "import bq\n",
    "\n",
    "query = \"\"\"\n",
    "SELECT * FROM `nhtsa-daisy.fars_2015.fars_apv_2015_ped`\n",
    "\"\"\"\n",
    "df = bq.to_df(query)\n",
    "df.info"
   ]
  },
  {
   "cell_type": "markdown",
   "metadata": {},
   "source": [
    "Now we need to create our target. The target is calculated from the number of total fatalities of the crash minus fatalities in the car. If the number bigger than 0, the speeding crash result in people death outside of vehicle, vise versa."
   ]
  },
  {
   "cell_type": "code",
   "execution_count": 59,
   "metadata": {
    "pycharm": {
     "name": "#%%\n"
    }
   },
   "outputs": [
    {
     "name": "stdout",
     "output_type": "stream",
     "text": [
      "0    84318\n",
      "1    15682\n",
      "Name: death, dtype: int64\n"
     ]
    },
    {
     "data": {
      "text/plain": [
       "<AxesSubplot:>"
      ]
     },
     "execution_count": 59,
     "metadata": {},
     "output_type": "execute_result"
    },
    {
     "data": {
      "image/png": "[encoded data removed]",
      "text/plain": [
       "<Figure size 432x288 with 1 Axes>"
      ]
     },
     "metadata": {
      "needs_background": "light"
     },
     "output_type": "display_data"
    }
   ],
   "source": [
    "df['death'] = df.apply(lambda row: 1 if (row.number_of_fatalities - row.fatalities_in_vehicle > 0) else 0, axis=1)\n",
    "print(df['death'].value_counts())\n",
    "df['death'].value_counts().plot(kind='bar')"
   ]
  },
  {
   "cell_type": "markdown",
   "metadata": {},
   "source": [
    "As you can see the target is not very balance, we could up-sample minority class or down-sample majority class. Here we choose to down-sample majority class"
   ]
  },
  {
   "cell_type": "code",
   "execution_count": 72,
   "metadata": {
    "pycharm": {
     "name": "#%%\n"
    }
   },
   "outputs": [
    {
     "data": {
      "text/plain": [
       "<AxesSubplot:>"
      ]
     },
     "execution_count": 72,
     "metadata": {},
     "output_type": "execute_result"
    },
    {
     "data": {
      "image/png": "[encoded data removed]",
      "text/plain": [
       "<Figure size 432x288 with 1 Axes>"
      ]
     },
     "metadata": {
      "needs_background": "light"
     },
     "output_type": "display_data"
    }
   ],
   "source": [
    "from sklearn.utils import resample\n",
    "import pandas as pd\n",
    "df_majority = df[df.death==0]\n",
    "df_minority = df[df.death==1]\n",
    "\n",
    "# Downsample majority class\n",
    "df_majority_downsampled = resample(df_majority,\n",
    "                                 replace=False,    # sample without replacement\n",
    "                                 n_samples=15682,     # to match minority class\n",
    "                                 random_state=123) # reproducible results\n",
    "\n",
    "# Combine minority class with downsampled majority class\n",
    "df_downsampled = pd.concat([df_majority_downsampled, df_minority])\n",
    "\n",
    "# Display new class counts\n",
    "print(df_downsampled.death.value_counts())\n",
    "df_downsampled['death'].value_counts().plot(kind='bar')\n"
   ]
  },
  {
   "cell_type": "markdown",
   "metadata": {
    "pycharm": {
     "name": "#%% md\n"
    }
   },
   "source": [
    "Then we need to drop some columns."
   ]
  },
  {
   "cell_type": "code",
   "execution_count": 63,
   "metadata": {
    "pycharm": {
     "name": "#%%\n"
    }
   },
   "outputs": [],
   "source": [
    "df_downsampled = df_downsampled.drop(['consecutive_number', 'number_of_fatalities', 'fatalities_in_vehicle', 'number_of_forms_submitted_for_persons_not_in_motor_vehicles'], axis=1)"
   ]
  },
  {
   "cell_type": "markdown",
   "metadata": {
    "pycharm": {
     "name": "#%% md\n"
    }
   },
   "source": [
    "We have some categorical columns, so we need to encode them into numeric."
   ]
  },
  {
   "cell_type": "code",
   "execution_count": 64,
   "metadata": {
    "pycharm": {
     "name": "#%%\n"
    }
   },
   "outputs": [],
   "source": [
    "df_downsampled[\"relation_to_junction_within_interchange_area\"] = df_downsampled.apply(\n",
    "    lambda row: 1 if (row.relation_to_junction_within_interchange_area == 'Yes') else 0, axis=1)\n",
    "\n",
    "df_downsampled['vehicle_trailing'] = df_downsampled['vehicle_trailing'].str[0:3]\n",
    "df_downsampled['vehicle_trailing'] = df_downsampled.apply(\n",
    "    lambda row: 0 if (row.vehicle_trailing == 'No ') else 1, axis=1)\n",
    "\n",
    "labels = df_downsampled['gross_vehicle_weight_rating'].astype('category').cat.categories.tolist()\n",
    "replace_map_comp = {'gross_vehicle_weight_rating': {k: v for k, v in zip(labels, list(range(0, len(labels) + 1)))}}\n",
    "df_downsampled.replace(replace_map_comp, inplace=True)\n",
    "\n",
    "labels2 = df_downsampled['roadway_alignment'].astype('category').cat.categories.tolist()\n",
    "replace_map_comp2 = {'roadway_alignment': {k: v for k, v in zip(labels2, list(range(1, len(labels2) + 1)))}}\n",
    "df_downsampled.replace(replace_map_comp2, inplace=True)\n",
    "\n",
    "labels3 = df_downsampled['roadway_grade'].astype('category').cat.categories.tolist()\n",
    "replace_map_comp3 = {'roadway_grade': {k: v for k, v in zip(labels3, list(range(1, len(labels3) + 1)))}}\n",
    "df_downsampled.replace(replace_map_comp3, inplace=True)\n",
    "\n",
    "labels4 = df_downsampled['roadway_surface_type'].astype('category').cat.categories.tolist()\n",
    "replace_map_comp4 = {'roadway_surface_type': {k: v for k, v in zip(labels4, list(range(1, len(labels4) + 1)))}}\n",
    "df_downsampled.replace(replace_map_comp4, inplace=True)\n",
    "\n",
    "labels5 = df_downsampled['type_of_intersection'].astype('category').cat.categories.tolist()\n",
    "replace_map_comp5 = {'type_of_intersection': {k: v for k, v in zip(labels5, list(range(1, len(labels5) + 1)))}}\n",
    "df_downsampled.replace(replace_map_comp5, inplace=True)\n",
    "\n",
    "df_downsampled['rollover'] = df_downsampled['rollover'].str[0:2]\n",
    "df_downsampled['rollover'] = df_downsampled.apply(\n",
    "    lambda row: 0 if (row.rollover == 'No') else 1, axis=1)\n",
    "\n",
    "df_downsampled['police_reported_alcohol_involvement'] = df_downsampled['police_reported_alcohol_involvement'].str[0:3]\n",
    "df_downsampled['police_reported_alcohol_involvement'] = df_downsampled.apply(\n",
    "    lambda row: 1 if (row.police_reported_alcohol_involvement == 'Yes') else 0, axis=1)\n",
    "\n",
    "df_downsampled['police_reported_drug_involvement'] = df_downsampled['police_reported_drug_involvement'].str[0:3]\n",
    "df_downsampled['police_reported_drug_involvement'] = df_downsampled.apply(\n",
    "    lambda row: 1 if (row.police_reported_drug_involvement == 'Yes') else 0, axis=1)\n",
    "\n",
    "df_downsampled['sex'] = df_downsampled.apply(\n",
    "    lambda row: 0 if (row.sex == 'Female') else 1, axis=1)"
   ]
  },
  {
   "cell_type": "markdown",
   "metadata": {},
   "source": [
    "Split training set and testing set"
   ]
  },
  {
   "cell_type": "code",
   "execution_count": 65,
   "metadata": {
    "pycharm": {
     "name": "#%%\n"
    }
   },
   "outputs": [],
   "source": [
    "from sklearn.model_selection import train_test_split\n",
    "\n",
    "X = df_downsampled.drop(['death'], axis=1)\n",
    "y = df_downsampled['death']"
   ]
  },
  {
   "cell_type": "markdown",
   "metadata": {
    "pycharm": {
     "name": "#%% md\n"
    }
   },
   "source": [
    "### Feature Selection"
   ]
  },
  {
   "cell_type": "code",
   "execution_count": 66,
   "metadata": {
    "pycharm": {
     "name": "#%%\n"
    }
   },
   "outputs": [
    {
     "name": "stdout",
     "output_type": "stream",
     "text": [
      "                                    feature_names  feature_importance\n",
      "51                                     crash_type            0.247870\n",
      "35                                      body_type            0.132538\n",
      "47                              roadway_alignment            0.091285\n",
      "43                 related_factors_driver_level_1            0.083221\n",
      "38                                   travel_speed            0.066792\n",
      "48                                  roadway_grade            0.049648\n",
      "40  previous_recorded_suspensions_and_revocations            0.041595\n",
      "50                      roadway_surface_condition            0.040404\n",
      "42                  previous_speeding_convictions            0.040245\n",
      "39                      previous_recorded_crashes            0.039177\n",
      "49                           roadway_surface_type            0.037744\n",
      "44                 related_factors_driver_level_2            0.035849\n",
      "36                               vehicle_trailing            0.019171\n",
      "41                       previous_dwi_convictions            0.013715\n",
      "45                 related_factors_driver_level_3            0.013418\n",
      "37                    gross_vehicle_weight_rating            0.010271\n",
      "46                 related_factors_driver_level_4            0.006677\n",
      "0                                    state_number            0.002877\n",
      "4                                  month_of_crash            0.002445\n",
      "25                                            age            0.002403\n",
      "6                                   hour_of_crash            0.002294\n",
      "17                                light_condition            0.002075\n",
      "10                                  route_signing            0.001967\n",
      "5                                     day_of_week            0.001891\n",
      "2                                            city            0.001859\n",
      "1                                          county            0.001799\n",
      "3                                    day_of_crash            0.001717\n",
      "9                               functional_system            0.001589\n",
      "18                         atmospheric_conditions            0.001368\n",
      "8                                        land_use            0.001283\n",
      "14         relation_to_junction_specific_location            0.001251\n",
      "15                           type_of_intersection            0.001038\n",
      "7                         national_highway_system            0.000950\n",
      "26                                            sex            0.000909\n",
      "11                            first_harmful_event            0.000663\n",
      "28                                injury_severity            0.000000\n",
      "20                  related_factors_crash_level_2            0.000000\n",
      "21                  related_factors_crash_level_3            0.000000\n",
      "22                                 vehicle_number            0.000000\n",
      "23                                  person_number            0.000000\n",
      "24                                       rollover            0.000000\n",
      "27                                    person_type            0.000000\n",
      "29            police_reported_alcohol_involvement            0.000000\n",
      "30               police_reported_drug_involvement            0.000000\n",
      "13   relation_to_junction_within_interchange_area            0.000000\n",
      "16                         relation_to_trafficway            0.000000\n",
      "19                  related_factors_crash_level_1            0.000000\n",
      "34                                           race            0.000000\n",
      "33                  related_factors_person_level3            0.000000\n",
      "32                  related_factors_person_level2            0.000000\n",
      "31                  related_factors_person_level1            0.000000\n",
      "12                            manner_of_collision            0.000000\n"
     ]
    }
   ],
   "source": [
    "from sklearn.ensemble import ExtraTreesClassifier\n",
    "import matplotlib.pyplot as plt\n",
    "import numpy as np\n",
    "\n",
    "extra_tree_forest = ExtraTreesClassifier(n_estimators=10, criterion ='entropy')\n",
    "\n",
    "extra_tree_forest.fit(X, y)\n",
    "# Computing the importance of each feature \n",
    "feature_importance = extra_tree_forest.feature_importances_ \n",
    "\n",
    "feature_importance_df = pd.DataFrame({'feature_names':np.array(X.columns),\n",
    "                                      'feature_importance':np.array(feature_importance)})\n",
    "\n",
    "print(feature_importance_df.sort_values(by=['feature_importance'], ascending=False))"
   ]
  },
  {
   "cell_type": "code",
   "execution_count": 68,
   "metadata": {
    "pycharm": {
     "name": "#%%\n"
    }
   },
   "outputs": [
    {
     "name": "stdout",
     "output_type": "stream",
     "text": [
      "['crash_type', 'body_type', 'roadway_alignment', 'related_factors_driver_level_1', 'travel_speed', 'roadway_grade', 'previous_recorded_suspensions_and_revocations', 'roadway_surface_condition', 'previous_speeding_convictions', 'previous_recorded_crashes']\n"
     ]
    }
   ],
   "source": [
    "print(list(feature_importance_df.sort_values(by=['feature_importance'], ascending=False)[:10]['feature_names']))"
   ]
  },
  {
   "cell_type": "markdown",
   "metadata": {
    "pycharm": {
     "name": "#%% md\n"
    }
   },
   "source": [
    "Here we have the list of features importance."
   ]
  },
  {
   "cell_type": "markdown",
   "metadata": {
    "pycharm": {
     "name": "#%% md\n"
    }
   },
   "source": [
    "The top 10 features are 'crash_type', 'body_type', 'roadway_alignment', 'related_factors_driver_level_1', 'travel_speed', 'roadway_grade', 'previous_recorded_suspensions_and_revocations', 'roadway_surface_condition', 'previous_speeding_convictions', 'previous_recorded_crashes'."
   ]
  },
  {
   "cell_type": "markdown",
   "metadata": {},
   "source": [
    "from sklearn.model_selection import train_test_split\n",
    "\n",
    "X = df_downsampled[['crash_type', 'body_type', 'roadway_alignment', 'related_factors_driver_level_1', 'travel_speed', 'roadway_grade', 'previous_recorded_suspensions_and_revocations', 'roadway_surface_condition', 'previous_speeding_convictions', 'previous_recorded_crashes']]\n",
    "X_train, X_test, y_train, y_test = train_test_split(X, y, test_size=0.25, random_state=0)"
   ]
  },
  {
   "cell_type": "code",
   "execution_count": 71,
   "metadata": {
    "pycharm": {
     "name": "#%%\n"
    }
   },
   "outputs": [
    {
     "data": {
      "image/png": "[encoded data removed]",
      "text/plain": [
       "<Figure size 576x432 with 1 Axes>"
      ]
     },
     "metadata": {
      "needs_background": "light"
     },
     "output_type": "display_data"
    }
   ],
   "source": [
    "from sklearn.ensemble import RandomForestClassifier\n",
    "from sklearn.linear_model import LogisticRegression\n",
    "from sklearn.naive_bayes import GaussianNB\n",
    "from sklearn.neighbors import KNeighborsClassifier\n",
    "from sklearn.tree import DecisionTreeClassifier\n",
    "from sklearn.metrics import roc_curve, roc_auc_score\n",
    "import pandas as pd\n",
    "\n",
    "classifiers = [LogisticRegression(random_state=1234),\n",
    "               GaussianNB(),\n",
    "               KNeighborsClassifier(),\n",
    "               DecisionTreeClassifier(random_state=1234),\n",
    "               RandomForestClassifier(random_state=1234)]\n",
    "\n",
    "result_table = pd.DataFrame(columns=['classifiers', 'fpr', 'tpr', 'auc'])\n",
    "\n",
    "for cls in classifiers:\n",
    "    model = cls.fit(X_train, y_train)\n",
    "    yproba = model.predict_proba(X_test)[::, 1]\n",
    "\n",
    "    fpr, tpr, _ = roc_curve(y_test, yproba)\n",
    "    auc = roc_auc_score(y_test, yproba)\n",
    "\n",
    "    result_table = result_table.append({'classifiers': cls.__class__.__name__,\n",
    "                                        'fpr': fpr,\n",
    "                                        'tpr': tpr,\n",
    "                                        'auc': auc}, ignore_index=True)\n",
    "\n",
    "result_table.set_index('classifiers', inplace=True)\n",
    "print(result_table)"
   ]
  }
 ],
 "metadata": {
  "kernelspec": {
   "display_name": "NHTSA_FARS_Data_Analysis",
   "language": "python",
   "name": "nhtsa_fars_data_analysis"
  },
  "language_info": {
   "codemirror_mode": {
    "name": "ipython",
    "version": 3
   },
   "file_extension": ".py",
   "mimetype": "text/x-python",
   "name": "python",
   "nbconvert_exporter": "python",
   "pygments_lexer": "ipython3",
   "version": "3.6.12"
  }
 },
 "nbformat": 4,
 "nbformat_minor": 4
}